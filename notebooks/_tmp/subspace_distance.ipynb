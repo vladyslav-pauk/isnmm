{
 "cells": [
  {
   "metadata": {
    "ExecuteTime": {
     "end_time": "2024-09-06T09:18:07.419353Z",
     "start_time": "2024-09-06T09:18:07.412035Z"
    }
   },
   "cell_type": "code",
   "source": [
    "import torch\n",
    "import numpy as np\n",
    "# from src.utils import subspace_distance\n",
    "\n",
    "def subspace_distance(S, U):\n",
    "    import torch\n",
    "\n",
    "    S_pseudo_inv = torch.linalg.pinv(S)\n",
    "\n",
    "    I = torch.eye(S.shape[0])\n",
    "    P_s_orth = I - S_pseudo_inv.T @ S.T\n",
    "\n",
    "    U_u, Q, V_u = torch.linalg.svd(U.T, full_matrices=False)\n",
    "    Q_u = V_u.T\n",
    "\n",
    "    matrix_product = P_s_orth @ Q_u\n",
    "\n",
    "    singular_values = torch.linalg.svd(matrix_product)[1]\n",
    "\n",
    "    norm_2 = torch.max(singular_values)\n",
    "    return norm_2\n",
    "\n",
    "\n",
    "t = 100\n",
    "n = 2\n",
    "m = 3\n",
    "non_linearity = 1e-15\n",
    "\n",
    "Y = np.random.rand(t, n)\n",
    "Z = np.random.rand(t, m)\n",
    "W = np.random.rand(n, n)\n",
    "A1 = np.random.rand(n, m)\n",
    "A2 = np.random.rand(n, m)\n",
    "\n",
    "Y = torch.tensor(Y)\n",
    "W = torch.tensor(W)\n",
    "A1 = torch.tensor(A1)\n",
    "A2 = torch.tensor(A2)\n",
    "Z = torch.tensor(Z)\n",
    "\n",
    "X1 = Z @ A1.T\n",
    "X2 = Z @ A2.T\n",
    "\n",
    "U = X2 @ torch.linalg.pinv(X1)\n",
    "# print(U @ X1 - X2)\n",
    "\n",
    "print(\"dim(Xz):\", X1.shape)\n",
    "print(\"dim(W):\", W.shape)\n",
    "\n",
    "X = X1 @ W + non_linearity * torch.randn(*X1.shape)\n",
    "\n",
    "print(subspace_distance(U @ X1, X1))\n",
    "print(subspace_distance(X1 @ W, X1))"
   ],
   "id": "b93e9de04d890a55",
   "outputs": [
    {
     "name": "stdout",
     "output_type": "stream",
     "text": [
      "dim(Xz): torch.Size([100, 2])\n",
      "dim(W): torch.Size([2, 2])\n",
      "tensor(0.7769, dtype=torch.float64)\n",
      "tensor(3.6842e-15, dtype=torch.float64)\n"
     ]
    }
   ],
   "execution_count": 57
  },
  {
   "metadata": {
    "ExecuteTime": {
     "end_time": "2024-09-06T09:31:10.223038Z",
     "start_time": "2024-09-06T09:31:10.217269Z"
    }
   },
   "cell_type": "code",
   "source": [
    "import numpy as np\n",
    "\n",
    "def subspace_distance(S, U):\n",
    "    # Step 1: Compute the projection matrix P_S onto the column space of S\n",
    "    S_pseudo_inv = np.linalg.pinv(S)\n",
    "    P_S = S.T @ S_pseudo_inv.T\n",
    "    \n",
    "    # Step 2: Compute the orthogonal basis Q_U of U using SVD\n",
    "    _, _, V_u = np.linalg.svd(U, full_matrices=False)\n",
    "    Q_u = V_u.T  # This is of shape (t, r), where r is the rank of U\n",
    "    \n",
    "    # Step 3: Project Q_U onto the subspace spanned by S\n",
    "    # Ensure the dimensions match by multiplying with the transpose of P_S\n",
    "    projection = P_S @ Q_u\n",
    "    \n",
    "    # Step 4: Compute the difference ||P_S Q_U - Q_U||_2\n",
    "    projection_difference = projection - Q_u\n",
    "    \n",
    "    # Step 5: Compute the 2-norm (largest singular value)\n",
    "    singular_values = np.linalg.svd(projection_difference, compute_uv=False)\n",
    "    norm_2 = np.max(singular_values)\n",
    "    \n",
    "    return norm_2\n",
    "\n",
    "# Example usage\n",
    "t = 100\n",
    "n = 2\n",
    "S = np.random.rand(n, t)\n",
    "Theta = np.random.rand(t, t)\n",
    "\n",
    "U = S @ Theta\n",
    "\n",
    "print(subspace_distance(S, U))"
   ],
   "id": "70eccba006d7dbb2",
   "outputs": [
    {
     "name": "stdout",
     "output_type": "stream",
     "text": [
      "0.9999986172617321\n"
     ]
    }
   ],
   "execution_count": 67
  },
  {
   "metadata": {
    "ExecuteTime": {
     "end_time": "2024-09-06T09:29:45.664195Z",
     "start_time": "2024-09-06T09:29:45.662818Z"
    }
   },
   "cell_type": "code",
   "source": "",
   "id": "d86722df63311d20",
   "outputs": [],
   "execution_count": 61
  },
  {
   "metadata": {},
   "cell_type": "code",
   "outputs": [],
   "execution_count": null,
   "source": "",
   "id": "cb63b52d9d789bc1"
  }
 ],
 "metadata": {
  "kernelspec": {
   "display_name": "Python 3",
   "language": "python",
   "name": "python3"
  },
  "language_info": {
   "codemirror_mode": {
    "name": "ipython",
    "version": 2
   },
   "file_extension": ".py",
   "mimetype": "text/x-python",
   "name": "python",
   "nbconvert_exporter": "python",
   "pygments_lexer": "ipython2",
   "version": "2.7.6"
  }
 },
 "nbformat": 4,
 "nbformat_minor": 5
}
