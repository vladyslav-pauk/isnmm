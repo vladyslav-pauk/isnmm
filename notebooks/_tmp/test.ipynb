{
 "cells": [
  {
   "cell_type": "code",
   "id": "initial_id",
   "metadata": {
    "collapsed": true,
    "ExecuteTime": {
     "end_time": "2024-09-26T23:31:32.229036Z",
     "start_time": "2024-09-26T23:31:32.226824Z"
    }
   },
   "source": [
    "import scipy.io as sio\n",
    "\n",
    "data_file = '../resources/post-nonlinear_mixture_learning-main/post-nonlinear_simplex_synthetic_data.mat'\n",
    "data = sio.loadmat(data_file)"
   ],
   "outputs": [],
   "execution_count": 6
  },
  {
   "metadata": {
    "ExecuteTime": {
     "end_time": "2024-09-26T23:31:33.292616Z",
     "start_time": "2024-09-26T23:31:33.289517Z"
    }
   },
   "cell_type": "code",
   "source": "data[\"x\"]",
   "id": "895478d3ff792fcd",
   "outputs": [
    {
     "data": {
      "text/plain": [
       "array([[ 2.29864841, -2.49046455,  0.41528975],\n",
       "       [ 2.52104519, -3.30836841,  0.21924299],\n",
       "       [-1.40816349,  4.29427698,  2.92807321],\n",
       "       ...,\n",
       "       [ 0.88555697, -1.47869525,  0.28987619],\n",
       "       [ 6.54202513, -4.30061565,  0.39264918],\n",
       "       [ 2.4130476 , -1.73293333,  0.58498177]])"
      ]
     },
     "execution_count": 7,
     "metadata": {},
     "output_type": "execute_result"
    }
   ],
   "execution_count": 7
  },
  {
   "metadata": {
    "ExecuteTime": {
     "end_time": "2024-09-26T23:31:35.956414Z",
     "start_time": "2024-09-26T23:31:35.954012Z"
    }
   },
   "cell_type": "code",
   "source": [
    "data_file = '../src/model/post-nonlinear_simplex_synthetic_data.mat'\n",
    "data_cnae = sio.loadmat(data_file)"
   ],
   "id": "fe91c01460813562",
   "outputs": [],
   "execution_count": 8
  },
  {
   "metadata": {
    "ExecuteTime": {
     "end_time": "2024-09-26T23:31:45.946554Z",
     "start_time": "2024-09-26T23:31:45.943795Z"
    }
   },
   "cell_type": "code",
   "source": "data_cnae[\"x\"]",
   "id": "fa51cd88a447746",
   "outputs": [
    {
     "data": {
      "text/plain": [
       "array([[-0.8965796 ,  3.1168168 ,  0.29451844],\n",
       "       [-0.5149442 ,  2.2550895 ,  0.32645112],\n",
       "       [ 1.5563624 ,  3.0477567 ,  0.19302693],\n",
       "       ...,\n",
       "       [ 2.4649854 ,  0.09772774,  0.26788518],\n",
       "       [ 2.9575353 ,  1.6942309 ,  0.21820281],\n",
       "       [ 0.7511971 ,  3.0365043 ,  0.21366334]], dtype=float32)"
      ]
     },
     "execution_count": 9,
     "metadata": {},
     "output_type": "execute_result"
    }
   ],
   "execution_count": 9
  },
  {
   "metadata": {
    "ExecuteTime": {
     "end_time": "2024-11-03T22:44:36.231758Z",
     "start_time": "2024-11-03T22:44:35.437383Z"
    }
   },
   "cell_type": "code",
   "source": "import torch",
   "id": "2d4509fef517171",
   "outputs": [],
   "execution_count": 1
  },
  {
   "metadata": {
    "ExecuteTime": {
     "end_time": "2024-11-03T22:49:25.087708Z",
     "start_time": "2024-11-03T22:49:25.070196Z"
    }
   },
   "cell_type": "code",
   "source": [
    "x = torch.tensor([[1, 3, 4.0]])\n",
    "xp = torch.tensor([[1, 3, 4.1]])\n",
    "print((x - xp).pow(2).mean())"
   ],
   "id": "7260dfed728ee791",
   "outputs": [
    {
     "name": "stdout",
     "output_type": "stream",
     "text": [
      "tensor(0.0033)\n"
     ]
    }
   ],
   "execution_count": 15
  },
  {
   "metadata": {},
   "cell_type": "code",
   "outputs": [],
   "execution_count": null,
   "source": "",
   "id": "823b36683dbd7337"
  }
 ],
 "metadata": {
  "kernelspec": {
   "display_name": "Python 3",
   "language": "python",
   "name": "python3"
  },
  "language_info": {
   "codemirror_mode": {
    "name": "ipython",
    "version": 2
   },
   "file_extension": ".py",
   "mimetype": "text/x-python",
   "name": "python",
   "nbconvert_exporter": "python",
   "pygments_lexer": "ipython2",
   "version": "2.7.6"
  }
 },
 "nbformat": 4,
 "nbformat_minor": 5
}
