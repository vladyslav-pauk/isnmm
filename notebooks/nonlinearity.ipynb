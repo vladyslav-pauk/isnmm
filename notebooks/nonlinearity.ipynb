{
 "cells": [
  {
   "metadata": {
    "ExecuteTime": {
     "end_time": "2024-09-08T04:41:19.660052Z",
     "start_time": "2024-09-08T04:41:19.247771Z"
    }
   },
   "cell_type": "code",
   "source": [
    "import torch\n",
    "\n",
    "class NonlinearTransform(torch.nn.Module):\n",
    "    def __init__(self, coefficients):\n",
    "        super(NonlinearTransform, self).__init__()\n",
    "        self.coefficients = coefficients\n",
    "    \n",
    "    def forward(self, x):\n",
    "        return torch.cat([\n",
    "            torch.stack([coeff * torch.tanh((power + 1) * x[..., i:i + 1]**power) for power, coeff in enumerate(self.coefficients[i])]).sum(dim=0)\n",
    "            for i in range(x.shape[-1])\n",
    "        ], dim=-1)\n",
    "\n",
    "    def inverse(self, y, tol=1e-6, max_iter=10000):\n",
    "        # Initialize x with y as an approximation (you can improve this)\n",
    "        x = y.clone()\n",
    "        \n",
    "        for _ in range(max_iter):\n",
    "            f_x = self.forward(x)\n",
    "            diff = y - f_x\n",
    "            if torch.norm(diff) < tol:\n",
    "                break\n",
    "            \n",
    "            # Update x using a numerical method, like Newton's method\n",
    "            # Here you would compute the Jacobian or use a simpler gradient-based update\n",
    "            # For simplicity, we just do a fixed-step gradient descent update\n",
    "            x = x + diff * 0.1  # Step size 0.1; could be adaptive\n",
    "            \n",
    "        return x"
   ],
   "id": "d2c2febc21c0a293",
   "outputs": [],
   "execution_count": 1
  },
  {
   "metadata": {
    "ExecuteTime": {
     "end_time": "2024-09-08T04:42:01.510892Z",
     "start_time": "2024-09-08T04:42:01.503908Z"
    }
   },
   "cell_type": "code",
   "source": [
    "import torch.nn as nn\n",
    "import torch.nn.functional as F\n",
    "\n",
    "class LineFitter(nn.Module):\n",
    "    def __init__(self):\n",
    "        super(LineFitter, self).__init__()\n",
    "        self.slopes = nn.ParameterList()\n",
    "        self.intercepts = nn.ParameterList()\n",
    "\n",
    "    def check_straightness(self, y, x):\n",
    "        \"\"\"\n",
    "        Fit a line to y = function(x) and calculate the mean squared error (MSE)\n",
    "        between y and the fitted line.\n",
    "        \"\"\"\n",
    "        # Flatten x and y\n",
    "        x_flat = x.flatten()\n",
    "        y_flat = y.flatten()\n",
    "\n",
    "        # Stack x with ones for linear regression (adding bias term)\n",
    "        X = torch.stack([x_flat, torch.ones_like(x_flat)], dim=1)\n",
    "\n",
    "        # Solve for slope and intercept using least squares\n",
    "        params = torch.linalg.lstsq(X, y_flat).solution\n",
    "        slope, intercept = params[0], params[1]\n",
    "\n",
    "        # Predict y using the fitted line\n",
    "        y_pred = slope * x + intercept\n",
    "\n",
    "        # Calculate the MSE between the actual and predicted y\n",
    "        mse = F.mse_loss(y_pred, y)\n",
    "\n",
    "        return mse, slope, intercept\n",
    "\n",
    "    def fit(self, f, x):\n",
    "        \"\"\"\n",
    "        Fits a line to each component of (x, y) data and stores the slope and intercept as nn.Parameters.\n",
    "\n",
    "        Args:\n",
    "            y: A tensor of outputs (transformed x).\n",
    "            x: A tensor of inputs (each component will be fit separately).\n",
    "\n",
    "        Returns:\n",
    "            mse_values: A tensor containing the MSE for each component.\n",
    "        \"\"\"\n",
    "        num_components = x.shape[-1]\n",
    "        mse_values = []\n",
    "\n",
    "        # Clear previous slopes and intercepts\n",
    "        self.slopes = nn.ParameterList()  # Reset to a new ParameterList\n",
    "        self.intercepts = nn.ParameterList()  # Reset to a new ParameterList\n",
    "\n",
    "        y = f(x)\n",
    "        # Fit each component of x and y independently\n",
    "        for i in range(num_components):\n",
    "            x_component = x[:, i:i + 1]  # Select the i-th component of x\n",
    "            y_component = y[:, i:i + 1]  # Select the i-th component of y\n",
    "\n",
    "            # Perform the linear fit on the selected component\n",
    "            mse, slope, intercept = self.check_straightness(y_component, x_component)\n",
    "\n",
    "            # Store slope and intercept as nn.Parameters\n",
    "            self.slopes.append(nn.Parameter(slope.unsqueeze(0)))  # Ensure it's a 1D tensor\n",
    "            self.intercepts.append(nn.Parameter(intercept.unsqueeze(0)))\n",
    "\n",
    "            # Save the MSE for this component\n",
    "            mse_values.append(mse)\n",
    "\n",
    "        mse_values = torch.tensor(mse_values)  # Convert MSE values to a tensor\n",
    "\n",
    "        return mse_values\n",
    "\n",
    "    def forward(self, x):\n",
    "        \"\"\"\n",
    "        Forward pass applying the linear transformation for each component of x.\n",
    "        \"\"\"\n",
    "        if len(self.slopes) == 0 or len(self.intercepts) == 0:\n",
    "            raise ValueError(\"Slopes and intercepts are not initialized. Call fit_and_return_functions first.\")\n",
    "\n",
    "        transformed_components = [\n",
    "            self.slopes[i] * x[..., i:i + 1] + self.intercepts[i]\n",
    "            for i in range(x.shape[-1])\n",
    "        ]\n",
    "        return torch.cat(transformed_components, dim=-1)"
   ],
   "id": "2cc4be3bb693515b",
   "outputs": [],
   "execution_count": 7
  },
  {
   "metadata": {
    "ExecuteTime": {
     "end_time": "2024-09-08T07:06:50.018429Z",
     "start_time": "2024-09-08T07:06:48.685Z"
    }
   },
   "cell_type": "code",
   "source": [
    "import torch\n",
    "import matplotlib.pyplot as plt\n",
    "from src.utils import plot_components\n",
    "\n",
    "num_points = 100\n",
    "observed_dim = 3\n",
    "degree = 5\n",
    "\n",
    "x = torch.randn(num_points, observed_dim).abs()\n",
    "# x = torch.linspace(0, 1, 100).unsqueeze(-1)\n",
    "\n",
    "coefficients = torch.rand(observed_dim, degree + 1)\n",
    "transformation = NonlinearTransform(coefficients)\n",
    "\n",
    "fitter = LineFitter()\n",
    "adl = fitter.fit(transformation, x)\n",
    "\n",
    "# plt.scatter(x, transformation(x))\n",
    "# plt.scatter(x, fitter(x).detach())\n",
    "plot_components(x, transformation)\n",
    "\n",
    "# y_inv = transformation.inverse(y)\n",
    "# plt.scatter(x, y_inv)"
   ],
   "id": "cac4155d4c2fc355",
   "outputs": [
    {
     "ename": "NameError",
     "evalue": "name 'NonlinearTransform' is not defined",
     "output_type": "error",
     "traceback": [
      "\u001B[0;31m---------------------------------------------------------------------------\u001B[0m",
      "\u001B[0;31mNameError\u001B[0m                                 Traceback (most recent call last)",
      "Cell \u001B[0;32mIn[1], line 13\u001B[0m\n\u001B[1;32m     10\u001B[0m \u001B[38;5;66;03m# x = torch.linspace(0, 1, 100).unsqueeze(-1)\u001B[39;00m\n\u001B[1;32m     12\u001B[0m coefficients \u001B[38;5;241m=\u001B[39m torch\u001B[38;5;241m.\u001B[39mrand(observed_dim, degree \u001B[38;5;241m+\u001B[39m \u001B[38;5;241m1\u001B[39m)\n\u001B[0;32m---> 13\u001B[0m transformation \u001B[38;5;241m=\u001B[39m \u001B[43mNonlinearTransform\u001B[49m(coefficients)\n\u001B[1;32m     15\u001B[0m fitter \u001B[38;5;241m=\u001B[39m LineFitter()\n\u001B[1;32m     16\u001B[0m adl \u001B[38;5;241m=\u001B[39m fitter\u001B[38;5;241m.\u001B[39mfit(transformation, x)\n",
      "\u001B[0;31mNameError\u001B[0m: name 'NonlinearTransform' is not defined"
     ]
    }
   ],
   "execution_count": 1
  },
  {
   "metadata": {
    "ExecuteTime": {
     "end_time": "2024-09-08T04:42:52.809867Z",
     "start_time": "2024-09-08T04:42:52.807331Z"
    }
   },
   "cell_type": "code",
   "source": [
    "# # Define a linear function\n",
    "# def linear_function(x):\n",
    "#     return 2 * x + 1\n",
    "# \n",
    "# # Define a nonlinear function\n",
    "# def nonlinear_function(x):\n",
    "#     return 2 * x + 3 + 10 * torch.sin(x)\n",
    "# \n",
    "# # Use 1D input for this example\n",
    "# x = torch.linspace(-10, 10, steps=100).unsqueeze(-1)  # Ensure x is 1D\n",
    "# \n",
    "# # Check the MSE for the linear function\n",
    "# mse_linear = fitter.fit(linear_function, x)\n",
    "# print(f\"MSE for linear function: {mse_linear.item()}\")\n",
    "# \n",
    "# # Check the MSE for the nonlinear function\n",
    "# mse_nonlinear, _, _ = fitter.fit(nonlinear_function, x)\n",
    "# print(f\"MSE for nonlinear function: {mse_nonlinear.item()}\")"
   ],
   "id": "fb7bd8be596ba5bb",
   "outputs": [],
   "execution_count": 11
  },
  {
   "metadata": {
    "ExecuteTime": {
     "end_time": "2024-09-24T00:42:14.501844Z",
     "start_time": "2024-09-24T00:42:14.498561Z"
    }
   },
   "cell_type": "code",
   "source": "",
   "id": "47b6b8c105803c5",
   "outputs": [
    {
     "name": "stdout",
     "output_type": "stream",
     "text": [
      "tensor([[0.0000],\n",
      "        [0.4621],\n",
      "        [0.7616],\n",
      "        [0.9051],\n",
      "        [0.9640]])\n",
      "1\n"
     ]
    }
   ],
   "execution_count": 4
  },
  {
   "metadata": {
    "ExecuteTime": {
     "end_time": "2024-09-25T07:41:37.023700Z",
     "start_time": "2024-09-25T07:41:36.280304Z"
    }
   },
   "cell_type": "code",
   "source": [
    "import torch\n",
    "\n",
    "x = torch.tensor([0, 0.5, 1, 1.5, 2]).unsqueeze(-1)\n",
    "z = torch.tanh(x)\n",
    "y = torch.atanh(z)\n",
    "print(z)\n",
    "print(y)\n",
    "import matplotlib.pyplot as plt\n",
    "\n",
    "x = torch.linspace(-10, 10, 100)\n",
    "y = torch.sin(2 * x) + 2.5 * x\n",
    "\n",
    "plt.plot(x, y)"
   ],
   "id": "1bac70422c25eb17",
   "outputs": [
    {
     "name": "stdout",
     "output_type": "stream",
     "text": [
      "tensor([[0.0000],\n",
      "        [0.4621],\n",
      "        [0.7616],\n",
      "        [0.9051],\n",
      "        [0.9640]])\n",
      "tensor([[0.0000],\n",
      "        [0.5000],\n",
      "        [1.0000],\n",
      "        [1.5000],\n",
      "        [2.0000]])\n"
     ]
    },
    {
     "data": {
      "text/plain": [
       "[<matplotlib.lines.Line2D at 0x11b3a8530>]"
      ]
     },
     "execution_count": 1,
     "metadata": {},
     "output_type": "execute_result"
    },
    {
     "data": {
      "text/plain": [
       "<Figure size 640x480 with 1 Axes>"
      ],
      "image/png": "[encoded data removed]"
     },
     "metadata": {},
     "output_type": "display_data"
    }
   ],
   "execution_count": 1
  },
  {
   "metadata": {},
   "cell_type": "code",
   "outputs": [],
   "execution_count": null,
   "source": [
    "from src.modules.metric.residual_nonlinearity import LineFitter\n",
    "from src.modules.transform import NonlinearComponentWise\n",
    "from src.modules.metric.residual_nonlinearity import plot_components\n",
    "\n",
    "import torch\n",
    "import matplotlib.pyplot as plt\n",
    "\n",
    "num_points = 100\n",
    "observed_dim = 4\n",
    "latent_dim = 4\n",
    "degree = 5\n",
    "\n",
    "x = torch.randn(num_points, observed_dim).abs() / 2\n",
    "# x = torch.linspace(0, 1, 100).unsqueeze(-1)\n",
    "\n",
    "coefficients = torch.rand(observed_dim, degree + 1)\n",
    "transformation = NonlinearComponentWise(observed_dim=observed_dim, nonlinearity='cnae', latent_dim=latent_dim, degree=degree)\n",
    "\n",
    "fitter = LineFitter()\n",
    "adl = fitter.fit(transformation, x)\n",
    "\n",
    "# plt.scatter(x, transformation(x))\n",
    "# plt.scatter(x, fitter(x).detach())\n",
    "plot_components(x, trasnformation=transformation, fitter=fitter)"
   ],
   "id": "eb370d3bb3cf386"
  }
 ],
 "metadata": {
  "kernelspec": {
   "display_name": "Python 3",
   "language": "python",
   "name": "python3"
  },
  "language_info": {
   "codemirror_mode": {
    "name": "ipython",
    "version": 2
   },
   "file_extension": ".py",
   "mimetype": "text/x-python",
   "name": "python",
   "nbconvert_exporter": "python",
   "pygments_lexer": "ipython2",
   "version": "2.7.6"
  }
 },
 "nbformat": 4,
 "nbformat_minor": 5
}
